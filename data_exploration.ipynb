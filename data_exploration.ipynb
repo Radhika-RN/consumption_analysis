{
 "cells": [
  {
   "cell_type": "code",
   "execution_count": 56,
   "id": "668b35de",
   "metadata": {
    "scrolled": true
   },
   "outputs": [
    {
     "name": "stdout",
     "output_type": "stream",
     "text": [
      "The autoreload extension is already loaded. To reload it, use:\n",
      "  %reload_ext autoreload\n",
      "The line_profiler extension is already loaded. To reload it, use:\n",
      "  %reload_ext line_profiler\n"
     ]
    }
   ],
   "source": [
    "%load_ext autoreload\n",
    "%autoreload 2\n",
    "%load_ext line_profiler\n",
    "import pandas as pd\n",
    "import random\n",
    "import numpy as np\n",
    "import timeit\n",
    "from gorlib import *\n"
   ]
  },
  {
   "cell_type": "code",
   "execution_count": 57,
   "id": "6a94cde0",
   "metadata": {},
   "outputs": [
    {
     "name": "stdout",
     "output_type": "stream",
     "text": [
      "Available sheets: dict_keys(['Forecasted Consumption', 'Meter List', 'Rates'])\n"
     ]
    }
   ],
   "source": [
    "#load data\n",
    "dfs = load_file(\"./data/data.xlsx\")\n",
    "print(\"Available sheets:\", dfs.keys())\n",
    "for key in dfs:\n",
    "    if \"Date\" in dfs[key].columns:\n",
    "        dfs[key]['Date'] = pd.to_datetime(dfs[key]['Date'])"
   ]
  },
  {
   "cell_type": "markdown",
   "id": "453fb11e",
   "metadata": {},
   "source": [
    "## Results "
   ]
  },
  {
   "cell_type": "code",
   "execution_count": 58,
   "id": "4c19c60e",
   "metadata": {},
   "outputs": [
    {
     "name": "stdout",
     "output_type": "stream",
     "text": [
      "     Meter ID  Total Estimated Consumption (kWh)  Total Cost (Pounds)\n",
      "0  1000000603                           24656.07                 8.26\n",
      "1    10588707                          122376.66                28.48\n",
      "2    10626610                          303294.62                88.16\n"
     ]
    }
   ],
   "source": [
    "#Answer to Question-1\n",
    "res = calc_costs(dfs['Forecasted Consumption'], dfs['Rates'], dfs['Meter List'], \"2020-10-01\", \"2022-09-30\")\n",
    "print(res)"
   ]
  },
  {
   "cell_type": "code",
   "execution_count": 59,
   "id": "c983cd99",
   "metadata": {},
   "outputs": [],
   "source": [
    "#Steps 2 and 3\n",
    "randmeters = gen_rand_meters(dfs['Rates'], mcnt=100)\n",
    "randconsm  = gen_mock_consn(randmeters[\"Meter ID\"].tolist(),\"2020-10-01\", \"2022-09-30\")"
   ]
  },
  {
   "cell_type": "code",
   "execution_count": 60,
   "id": "3732bf90",
   "metadata": {},
   "outputs": [
    {
     "name": "stdout",
     "output_type": "stream",
     "text": [
      "   Meter ID  Total Estimated Consumption (kWh)  Total Cost (Pounds)\n",
      "0      1036                          111975.94                32.41\n",
      "1      1027                          109606.75                36.88\n",
      "2      1073                          110768.99                33.20\n",
      "3      1038                          113276.30                33.50\n",
      "4      1003                          112188.55                38.49\n",
      "5      1001                          107572.60                31.66\n",
      "6      1053                          113455.81                38.34\n",
      "7      1040                          112422.79                33.08\n",
      "8      1052                          108948.13                32.65\n",
      "9      1020                          112029.53                32.97\n"
     ]
    }
   ],
   "source": [
    "#Testing on new generated data\n",
    "res = calc_costs(randconsm, dfs['Rates'],randmeters, \"2020-10-01\", \"2022-09-30\")\n",
    "print(res.head(10))"
   ]
  },
  {
   "cell_type": "markdown",
   "id": "b1627be5",
   "metadata": {},
   "source": [
    "# Profiling"
   ]
  },
  {
   "cell_type": "code",
   "execution_count": 61,
   "id": "69c548d1",
   "metadata": {},
   "outputs": [],
   "source": [
    "randmeters = gen_rand_meters(dfs['Rates'], mcnt=100)\n",
    "randconsm  = gen_mock_consn(randmeters[\"Meter ID\"].tolist(),\"2020-10-01\", \"2022-09-30\")\n",
    "permtr_cnt = randconsm.shape[0]/100.0"
   ]
  },
  {
   "cell_type": "markdown",
   "id": "e8fa0cb2-1b9a-45c9-832d-88c55280d72f",
   "metadata": {},
   "source": [
    "## Trying simple execution-time profiling"
   ]
  },
  {
   "cell_type": "code",
   "execution_count": 62,
   "id": "3c1dbc65",
   "metadata": {},
   "outputs": [
    {
     "name": "stdout",
     "output_type": "stream",
     "text": [
      "1 loop, best of 5: 684 ms per loop\n"
     ]
    }
   ],
   "source": [
    "%%timeit\n",
    "res = calc_costs(randconsm, dfs['Rates'],randmeters, \"2020-10-01\", \"2022-09-30\")"
   ]
  },
  {
   "cell_type": "code",
   "execution_count": 63,
   "id": "7846299a",
   "metadata": {},
   "outputs": [],
   "source": [
    "randmeters = gen_rand_meters(dfs['Rates'], mcnt=1000)\n",
    "randconsm  = gen_mock_consn(randmeters[\"Meter ID\"].tolist(),\"2020-10-01\", \"2022-09-30\")"
   ]
  },
  {
   "cell_type": "code",
   "execution_count": 64,
   "id": "c0c0458c",
   "metadata": {},
   "outputs": [
    {
     "name": "stdout",
     "output_type": "stream",
     "text": [
      "1 loop, best of 5: 11 s per loop\n"
     ]
    }
   ],
   "source": [
    "%%timeit\n",
    "res = calc_costs(randconsm, dfs['Rates'],randmeters, \"2020-10-01\", \"2022-09-30\")"
   ]
  },
  {
   "cell_type": "markdown",
   "id": "59c8008f-97fa-4ee5-93d0-ba61df841453",
   "metadata": {},
   "source": [
    "## Automated execution-time profiling for variable input length"
   ]
  },
  {
   "cell_type": "code",
   "execution_count": 65,
   "id": "63ff1013",
   "metadata": {},
   "outputs": [],
   "source": [
    "imports = '''\n",
    "from gorlib import calc_costs, gen_rand_meters, gen_mock_consn, load_file\n",
    "import pandas as pd\n",
    "dfs = load_file(\"./data/data.xlsx\")\n",
    "for key in dfs:\n",
    "    if \"Date\" in dfs[key].columns:\n",
    "        dfs[key]['Date'] = pd.to_datetime(dfs[key]['Date'])\n",
    "randmeters = gen_rand_meters(dfs['Rates'], mcnt={mcnt})\n",
    "randconsm  = gen_mock_consn(randmeters[\"Meter ID\"].tolist(),\"2020-10-01\", \"2022-09-30\")\n",
    "'''\n",
    "testcode= '''\n",
    "calc_costs(randconsm, dfs['Rates'],randmeters, \"2020-10-01\", \"2022-09-30\")\n",
    "'''\n",
    "\n",
    "cntlist = [10,50,100,500,1000,2000]\n",
    "pftime = [timeit.timeit(stmt=testcode, setup=imports.format(mcnt=cnt), number=10)/10.0 for cnt in cntlist]"
   ]
  },
  {
   "cell_type": "code",
   "execution_count": 66,
   "id": "f5b39a1d",
   "metadata": {},
   "outputs": [
    {
     "data": {
      "image/png": "[encoded data removed]",
      "text/plain": [
       "<Figure size 432x288 with 1 Axes>"
      ]
     },
     "metadata": {
      "needs_background": "light"
     },
     "output_type": "display_data"
    },
    {
     "data": {
      "image/png": "[encoded data removed]",
      "text/plain": [
       "<Figure size 432x288 with 1 Axes>"
      ]
     },
     "metadata": {
      "needs_background": "light"
     },
     "output_type": "display_data"
    },
    {
     "data": {
      "image/png": "[encoded data removed]",
      "text/plain": [
       "<Figure size 432x288 with 1 Axes>"
      ]
     },
     "metadata": {
      "needs_background": "light"
     },
     "output_type": "display_data"
    }
   ],
   "source": [
    "import matplotlib.pyplot as plt\n",
    "import numpy.polynomial.polynomial as poly\n",
    "plt.figure()\n",
    "plt.plot(cntlist,pftime, marker=\"o\")\n",
    "plt.xlabel(\"Meter count\")\n",
    "plt.ylabel(\"Execution time (s)\")\n",
    "plt.title(\"Meter cnt vs Execution Time\")\n",
    "plt.grid()\n",
    "\n",
    "plt.figure()\n",
    "plt.plot(np.array(cntlist)*permtr_cnt,pftime, marker=\"o\")\n",
    "plt.xlabel(\"Consumption dataframe row count\")\n",
    "plt.ylabel(\"Execution time (s)\")\n",
    "plt.title(\"Row cnt vs Execution Time\")\n",
    "plt.ticklabel_format(style='sci', axis='x', scilimits=(0,0))\n",
    "plt.grid()\n",
    "\n",
    "plt.figure()\n",
    "rcnt = np.array(cntlist)*permtr_cnt\n",
    "plt.plot(rcnt,pftime, marker=\"o\", label=\"actual\")\n",
    "p1coefs = poly.polyfit(rcnt, pftime, 1)\n",
    "ffit = poly.polyval(rcnt, p1coefs)\n",
    "plt.plot(rcnt, ffit,\"--\", label=\"degree=1\")\n",
    "p2coefs = poly.polyfit(rcnt, pftime, 2)\n",
    "ffit = poly.polyval(rcnt, p2coefs)\n",
    "plt.plot(rcnt, ffit,\"--\", label=\"degree=2\")\n",
    "plt.plot(rcnt, np.log(rcnt),\"--\", label=\"log(n)\")\n",
    "plt.legend()\n",
    "plt.xlabel(\"Consumption dataframe row count\")\n",
    "plt.ylabel(\"Execution time (s)\")\n",
    "plt.title(\"Row cnt vs Execution Time with polyfit\")\n",
    "plt.ticklabel_format(style='sci', axis='x', scilimits=(0,0))\n",
    "plt.grid()\n",
    "plt.show()"
   ]
  },
  {
   "cell_type": "markdown",
   "id": "ac3f80c4-1571-4c05-b4bd-136f390288c6",
   "metadata": {},
   "source": [
    "### It can be noticed that the execution-time is not linear with the meter count/consumption df row count. The points fit degree 2 curves. Code line profiling is performed below to understand  potential bottlenecks."
   ]
  },
  {
   "cell_type": "code",
   "execution_count": 67,
   "id": "b5ac569b",
   "metadata": {},
   "outputs": [
    {
     "data": {
      "text/plain": [
       "Timer unit: 1e-06 s\n",
       "\n",
       "Total time: 18.674 s\n",
       "File: /home/radhika/dev/consumption_analysis/gorlib.py\n",
       "Function: calc_meter_cost at line 17\n",
       "\n",
       "Line #      Hits         Time  Per Hit   % Time  Line Contents\n",
       "==============================================================\n",
       "    17                                           def calc_meter_cost(forecast, rates, mid, ezone, aq, sdate, edate):\n",
       "    18                                               \"\"\"\n",
       "    19                                               Calculates the total cost and consumption for a single meter\n",
       "    20                                               \"\"\"\n",
       "    21      1000    7103036.0   7103.0     38.0      fdsel = (forecast[\"Meter ID\"]== mid) & (forecast[\"Date\"] >= sdate) & (forecast[\"Date\"] < edate)\n",
       "    22      1000    1487308.0   1487.3      8.0      rsel = (rates['Exit Zone'] == ezone) & (rates['Annual Quantity (Min)'] <= aq) & (rates['Annual Quantity (Max)'] > aq)\n",
       "    23      1000     871628.0    871.6      4.7      dff = forecast.loc[fdsel]\n",
       "    24      1000     947790.0    947.8      5.1      dff = dff.set_index('Date')\n",
       "    25      1000     194139.0    194.1      1.0      dff = dff.sort_index()\n",
       "    26      1000    1656440.0   1656.4      8.9      dfr = rates.loc[rsel, ['Date','Rate (p/kWh)']]\n",
       "    27      1000     828838.0    828.8      4.4      dfr = dfr.set_index('Date')\n",
       "    28      1000     172748.0    172.7      0.9      dfr = dfr.sort_index()\n",
       "    29      1000    1424712.0   1424.7      7.6      dfr = dfr.reindex(labels=pd.date_range(dfr.index[0],dfr.index[-1],freq='D'), method='pad')\n",
       "    30      1000    1333314.0   1333.3      7.1      dfj = dff.join(dfr)\n",
       "    31      1000    2041127.0   2041.1     10.9      dfj[\"Cost\"] = dfj['Rate (p/kWh)'] * dfj['kWh']\n",
       "    32      1000     612895.0    612.9      3.3      return {\"Tcost\": (dfj[\"Cost\"].sum()/100.0).round(2), \"TkWh\": dfj[\"kWh\"].sum().round(2)}"
      ]
     },
     "metadata": {},
     "output_type": "display_data"
    }
   ],
   "source": [
    "%lprun -f calc_meter_cost calc_costs(randconsm, dfs['Rates'], randmeters, \"2020-10-01\", \"2022-09-30\")"
   ]
  },
  {
   "cell_type": "markdown",
   "id": "300147ee-82a3-4ae1-bd01-9f98c0723ab8",
   "metadata": {
    "tags": []
   },
   "source": [
    "### The multi-conditional on line 20 seems to take a good percentage of the time. The actual multiplication is written as vectorized operation (Line 32)."
   ]
  },
  {
   "cell_type": "raw",
   "id": "efee3ecb-2643-4a0b-876e-37d629127a1c",
   "metadata": {},
   "source": [
    "A few things tired that didn't give much improvements\n",
    "1. Used np.where instead of pandas conditionals\n",
    "2. Removed joining multiple dataframes\n",
    "3. Tried pandas query\n",
    "4. Replaced outer for loop (for meters) with apply"
   ]
  },
  {
   "cell_type": "code",
   "execution_count": 68,
   "id": "758fe3ff-c25e-48b0-b2d4-6c5bc24b7fb7",
   "metadata": {},
   "outputs": [
    {
     "name": "stdout",
     "output_type": "stream",
     "text": [
      "1 loop, best of 5: 12.5 s per loop\n"
     ]
    }
   ],
   "source": [
    "%%timeit\n",
    "res = calc_costs_opt(randconsm, dfs['Rates'], randmeters, \"2020-10-01\", \"2022-09-30\")"
   ]
  },
  {
   "cell_type": "code",
   "execution_count": 69,
   "id": "712922cd-8cb5-4073-a409-941ba1fc49dc",
   "metadata": {},
   "outputs": [
    {
     "data": {
      "text/plain": [
       "Timer unit: 1e-06 s\n",
       "\n",
       "Total time: 18.4111 s\n",
       "File: /home/radhika/dev/consumption_analysis/gorlib.py\n",
       "Function: calc_meter_cost_opt at line 35\n",
       "\n",
       "Line #      Hits         Time  Per Hit   % Time  Line Contents\n",
       "==============================================================\n",
       "    35                                           def calc_meter_cost_opt(forecast, rates, mid, ezone, aq, sdate, edate):\n",
       "    36                                               \"\"\"\n",
       "    37                                               Same as calc_meter_cost: Used for testing optimization\n",
       "    38                                               \"\"\"\n",
       "    39      1000    7082057.0   7082.1     38.5      fdsel = (forecast[\"Meter ID\"]== mid) & (forecast[\"Date\"] >= sdate) & (forecast[\"Date\"] < edate)\n",
       "    40      1000    1458363.0   1458.4      7.9      rsel = (rates['Exit Zone'] == ezone) & (rates['Annual Quantity (Min)'] <= aq) & (rates['Annual Quantity (Max)'] > aq)\n",
       "    41      1000     867614.0    867.6      4.7      dff = forecast.loc[fdsel]\n",
       "    42      1000     929700.0    929.7      5.0      dff = dff.set_index('Date')\n",
       "    43      1000     192432.0    192.4      1.0      dff = dff.sort_index()\n",
       "    44      1000    1633515.0   1633.5      8.9      dfr = rates.loc[rsel, ['Date','Rate (p/kWh)']]\n",
       "    45      1000     819519.0    819.5      4.5      dfr = dfr.set_index('Date')\n",
       "    46      1000     163208.0    163.2      0.9      dfr = dfr.sort_index()\n",
       "    47      1000    1428292.0   1428.3      7.8      dfr = dfr.reindex(labels=pd.date_range(dfr.index[0],dfr.index[-1],freq='D'), method='pad')\n",
       "    48                                               #dfj = dff.join(dfr)\n",
       "    49      1000    3197851.0   3197.9     17.4      dfr[\"Cost\"] = dfr['Rate (p/kWh)'] * dff['kWh']\n",
       "    50      1000     638506.0    638.5      3.5      return [(dfr[\"Cost\"].sum()/100.0).round(2), dff[\"kWh\"].sum().round(2)]"
      ]
     },
     "metadata": {},
     "output_type": "display_data"
    }
   ],
   "source": [
    "%lprun -f calc_meter_cost_opt calc_costs_opt(randconsm, dfs['Rates'], randmeters, \"2020-10-01\", \"2022-09-30\")"
   ]
  },
  {
   "cell_type": "markdown",
   "id": "7ab947ab-9625-4580-9a77-9237b5ba1767",
   "metadata": {},
   "source": [
    "# Todos\n",
    "Some additional todos if time permits\n",
    "1. Try numexpr for conditionals (some good results seen on stackoverflow)\n",
    "2. See whether there could be precalculated dataframes that can be used over loops (for example rsel (Line 21))\n",
    "3. Do memory profiling\n",
    "4. Better code comments (e.g: Function parameter explanations)"
   ]
  }
 ],
 "metadata": {
  "kernelspec": {
   "display_name": "Python 3",
   "language": "python",
   "name": "python3"
  },
  "language_info": {
   "codemirror_mode": {
    "name": "ipython",
    "version": 3
   },
   "file_extension": ".py",
   "mimetype": "text/x-python",
   "name": "python",
   "nbconvert_exporter": "python",
   "pygments_lexer": "ipython3",
   "version": "3.7.3"
  }
 },
 "nbformat": 4,
 "nbformat_minor": 5
}
