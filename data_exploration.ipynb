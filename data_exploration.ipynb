{
 "cells": [
  {
   "cell_type": "code",
   "execution_count": 13,
   "id": "668b35de",
   "metadata": {
    "scrolled": true
   },
   "outputs": [
    {
     "name": "stdout",
     "output_type": "stream",
     "text": [
      "The autoreload extension is already loaded. To reload it, use:\n",
      "  %reload_ext autoreload\n",
      "The line_profiler extension is already loaded. To reload it, use:\n",
      "  %reload_ext line_profiler\n"
     ]
    }
   ],
   "source": [
    "%load_ext autoreload\n",
    "%autoreload 2\n",
    "%load_ext line_profiler\n",
    "import pandas as pd\n",
    "import random\n",
    "import numpy as np\n",
    "import timeit\n",
    "from gorlib import *\n"
   ]
  },
  {
   "cell_type": "code",
   "execution_count": 14,
   "id": "6a94cde0",
   "metadata": {},
   "outputs": [
    {
     "name": "stdout",
     "output_type": "stream",
     "text": [
      "dict_keys(['Forecasted Consumption', 'Meter List', 'Rates'])\n"
     ]
    }
   ],
   "source": [
    "#load data\n",
    "dfs = load_file(\"./data/data.xlsx\")\n",
    "print(dfs.keys())\n",
    "for key in dfs:\n",
    "    if \"Date\" in dfs[key].columns:\n",
    "        dfs[key]['Date'] = pd.to_datetime(dfs[key]['Date'])"
   ]
  },
  {
   "cell_type": "markdown",
   "id": "453fb11e",
   "metadata": {},
   "source": [
    "## Results "
   ]
  },
  {
   "cell_type": "code",
   "execution_count": 15,
   "id": "4c19c60e",
   "metadata": {},
   "outputs": [
    {
     "name": "stdout",
     "output_type": "stream",
     "text": [
      "     Meter ID  Total Estimated Consumption (kWh)  Total Cost (Pounds)\n",
      "0  1000000603                           24656.07                 8.26\n",
      "1    10588707                          122376.66                28.48\n",
      "2    10626610                          303294.62                88.16\n"
     ]
    }
   ],
   "source": [
    "res = calc_costs(dfs['Forecasted Consumption'], dfs['Rates'], dfs['Meter List'], \"2020-10-01\", \"2022-09-30\")\n",
    "print(res)"
   ]
  },
  {
   "cell_type": "code",
   "execution_count": 16,
   "id": "c983cd99",
   "metadata": {},
   "outputs": [],
   "source": [
    "randmeters = gen_rand_meters(dfs['Rates'], mcnt=100)\n",
    "randconsm  = gen_mock_consn(randmeters[\"Meter ID\"].tolist(),\"2020-10-01\", \"2022-09-30\")"
   ]
  },
  {
   "cell_type": "code",
   "execution_count": 17,
   "id": "3732bf90",
   "metadata": {},
   "outputs": [
    {
     "name": "stdout",
     "output_type": "stream",
     "text": [
      "   Meter ID  Total Estimated Consumption (kWh)  Total Cost (Pounds)\n",
      "0      1031                          108622.72                32.11\n",
      "1      1017                          111533.77                33.45\n",
      "2      1081                          115243.56                34.37\n",
      "3      1029                          112660.54                38.62\n",
      "4      1020                          106894.60                30.95\n",
      "5      1026                          109057.60                31.57\n",
      "6      1028                          110720.55                33.18\n",
      "7      1089                          105243.94                30.51\n",
      "8      1075                          108752.05                37.27\n",
      "9      1048                          115538.20                43.26\n"
     ]
    }
   ],
   "source": [
    "res = calc_costs(randconsm, dfs['Rates'],randmeters, \"2020-10-01\", \"2022-09-30\")\n",
    "print(res.head(10))"
   ]
  },
  {
   "cell_type": "markdown",
   "id": "b1627be5",
   "metadata": {},
   "source": [
    "# Profiling"
   ]
  },
  {
   "cell_type": "code",
   "execution_count": 18,
   "id": "69c548d1",
   "metadata": {},
   "outputs": [],
   "source": [
    "randmeters = gen_rand_meters(dfs['Rates'], mcnt=100)\n",
    "randconsm  = gen_mock_consn(randmeters[\"Meter ID\"].tolist(),\"2020-10-01\", \"2022-09-30\")\n",
    "permtr_cnt = randconsm.shape[0]/100.0"
   ]
  },
  {
   "cell_type": "code",
   "execution_count": 19,
   "id": "3c1dbc65",
   "metadata": {},
   "outputs": [
    {
     "name": "stdout",
     "output_type": "stream",
     "text": [
      "1 loop, best of 5: 654 ms per loop\n"
     ]
    }
   ],
   "source": [
    "%%timeit\n",
    "res = calc_costs(randconsm, dfs['Rates'],randmeters, \"2020-10-01\", \"2022-09-30\")"
   ]
  },
  {
   "cell_type": "code",
   "execution_count": 20,
   "id": "7846299a",
   "metadata": {},
   "outputs": [],
   "source": [
    "randmeters = gen_rand_meters(dfs['Rates'], mcnt=1000)\n",
    "randconsm  = gen_mock_consn(randmeters[\"Meter ID\"].tolist(),\"2020-10-01\", \"2022-09-30\")"
   ]
  },
  {
   "cell_type": "code",
   "execution_count": 21,
   "id": "c0c0458c",
   "metadata": {},
   "outputs": [
    {
     "name": "stdout",
     "output_type": "stream",
     "text": [
      "1 loop, best of 5: 11.3 s per loop\n"
     ]
    }
   ],
   "source": [
    "%%timeit\n",
    "res = calc_costs(randconsm, dfs['Rates'],randmeters, \"2020-10-01\", \"2022-09-30\")"
   ]
  },
  {
   "cell_type": "code",
   "execution_count": 22,
   "id": "63ff1013",
   "metadata": {},
   "outputs": [],
   "source": [
    "imports = '''\n",
    "from gorlib import calc_costs, gen_rand_meters, gen_mock_consn, load_file\n",
    "import pandas as pd\n",
    "dfs = load_file(\"./data/data.xlsx\")\n",
    "for key in dfs:\n",
    "    if \"Date\" in dfs[key].columns:\n",
    "        dfs[key]['Date'] = pd.to_datetime(dfs[key]['Date'])\n",
    "randmeters = gen_rand_meters(dfs['Rates'], mcnt={mcnt})\n",
    "randconsm  = gen_mock_consn(randmeters[\"Meter ID\"].tolist(),\"2020-10-01\", \"2022-09-30\")\n",
    "'''\n",
    "testcode= '''\n",
    "calc_costs(randconsm, dfs['Rates'],randmeters, \"2020-10-01\", \"2022-09-30\")\n",
    "'''\n",
    "\n",
    "cntlist = [10,50,100,500,1000,2000]\n",
    "pftime = [timeit.timeit(stmt=testcode, setup=imports.format(mcnt=cnt), number=10)/10.0 for cnt in cntlist]"
   ]
  },
  {
   "cell_type": "code",
   "execution_count": null,
   "id": "f5b39a1d",
   "metadata": {},
   "outputs": [],
   "source": [
    "import matplotlib.pyplot as plt\n",
    "import numpy.polynomial.polynomial as poly\n",
    "plt.figure()\n",
    "plt.plot(cntlist,pftime, marker=\"o\")\n",
    "plt.xlabel(\"Meter count\")\n",
    "plt.ylabel(\"Execution time (s)\")\n",
    "plt.title(\"Meter cnt vs Execution Time\")\n",
    "plt.grid()\n",
    "\n",
    "plt.figure()\n",
    "plt.plot(np.array(cntlist)*permtr_cnt,pftime, marker=\"o\")\n",
    "plt.xlabel(\"Consumption dataframe row count\")\n",
    "plt.ylabel(\"Execution time (s)\")\n",
    "plt.title(\"Row cnt vs Execution Time\")\n",
    "plt.ticklabel_format(style='sci', axis='x', scilimits=(0,0))\n",
    "plt.grid()\n",
    "\n",
    "plt.figure()\n",
    "rcnt = np.array(cntlist)*permtr_cnt\n",
    "plt.plot(rcnt,pftime, marker=\"o\", label=\"actual\")\n",
    "p1coefs = poly.polyfit(rcnt, pftime, 1)\n",
    "ffit = poly.polyval(rcnt, p1coefs)\n",
    "plt.plot(rcnt, ffit,\"--\", label=\"degree=1\")\n",
    "p2coefs = poly.polyfit(rcnt, pftime, 2)\n",
    "ffit = poly.polyval(rcnt, p2coefs)\n",
    "plt.plot(rcnt, ffit,\"--\", label=\"degree=2\")\n",
    "plt.plot(rcnt, np.log(rcnt),\"--\", label=\"log(n)\")\n",
    "plt.legend()\n",
    "plt.xlabel(\"Consumption dataframe row count\")\n",
    "plt.ylabel(\"Execution time (s)\")\n",
    "plt.title(\"Row cnt vs Execution Time with polyfit\")\n",
    "plt.ticklabel_format(style='sci', axis='x', scilimits=(0,0))\n",
    "plt.grid()\n",
    "plt.show()"
   ]
  },
  {
   "cell_type": "code",
   "execution_count": 24,
   "id": "b5ac569b",
   "metadata": {},
   "outputs": [
    {
     "data": {
      "text/plain": [
       "Timer unit: 1e-06 s\n",
       "\n",
       "Total time: 22.1592 s\n",
       "File: /home/radhika/dev/consumption_analysis/gorlib.py\n",
       "Function: calc_meter_cost at line 17\n",
       "\n",
       "Line #      Hits         Time  Per Hit   % Time  Line Contents\n",
       "==============================================================\n",
       "    17                                           def calc_meter_cost(forecast, rates, mid, ezone, aq, sdate, edate):\n",
       "    18                                               \"\"\"\n",
       "    19                                               \"\"\"\n",
       "    20      1000    8261625.0   8261.6     37.3      fdsel = (forecast[\"Meter ID\"]== mid) & (forecast[\"Date\"] >= sdate) & (forecast[\"Date\"] < edate)\n",
       "    21      1000    1728509.0   1728.5      7.8      rsel = (rates['Exit Zone'] == ezone) & (rates['Annual Quantity (Min)'] <= aq) & (rates['Annual Quantity (Max)'] > aq)\n",
       "    22      1000    1033609.0   1033.6      4.7      dff = forecast.loc[fdsel]\n",
       "    23      1000    1118552.0   1118.6      5.0      dff = dff.set_index('Date')\n",
       "    24      1000     231119.0    231.1      1.0      dff = dff.sort_index()\n",
       "    25                                               #Add comments\n",
       "    26      1000    1987367.0   1987.4      9.0      dfr = rates.loc[rsel, ['Date','Rate (p/kWh)']]\n",
       "    27      1000    1036579.0   1036.6      4.7      dfr = dfr.set_index('Date')\n",
       "    28      1000     204135.0    204.1      0.9      dfr = dfr.sort_index()\n",
       "    29      1000    1741124.0   1741.1      7.9      dfr = dfr.reindex(labels=pd.date_range(dfr.index[0],dfr.index[-1],freq='D'), method='pad')\n",
       "    30                                               #Add comments\n",
       "    31      1000    1640778.0   1640.8      7.4      dfj = dff.join(dfr)\n",
       "    32      1000    2432440.0   2432.4     11.0      dfj[\"Cost\"] = dfj['Rate (p/kWh)'] * dfj['kWh']\n",
       "    33      1000     743400.0    743.4      3.4      return {\"Tcost\": (dfj[\"Cost\"].sum()/100.0).round(2), \"TkWh\": dfj[\"kWh\"].sum().round(2)}"
      ]
     },
     "metadata": {},
     "output_type": "display_data"
    }
   ],
   "source": [
    "%lprun -f calc_meter_cost calc_costs(randconsm, dfs['Rates'], randmeters, \"2020-10-01\", \"2022-09-30\")"
   ]
  },
  {
   "cell_type": "code",
   "execution_count": 25,
   "id": "758fe3ff-c25e-48b0-b2d4-6c5bc24b7fb7",
   "metadata": {},
   "outputs": [
    {
     "name": "stdout",
     "output_type": "stream",
     "text": [
      "1 loop, best of 5: 12.1 s per loop\n"
     ]
    }
   ],
   "source": [
    "%%timeit\n",
    "res = calc_costs_opt(randconsm, dfs['Rates'], randmeters, \"2020-10-01\", \"2022-09-30\")"
   ]
  },
  {
   "cell_type": "code",
   "execution_count": null,
   "id": "712922cd-8cb5-4073-a409-941ba1fc49dc",
   "metadata": {},
   "outputs": [],
   "source": [
    "%lprun -f calc_meter_cost_opt calc_costs_opt(randconsm, dfs['Rates'], randmeters, \"2020-10-01\", \"2022-09-30\")"
   ]
  }
 ],
 "metadata": {
  "kernelspec": {
   "display_name": "Python 3",
   "language": "python",
   "name": "python3"
  },
  "language_info": {
   "codemirror_mode": {
    "name": "ipython",
    "version": 3
   },
   "file_extension": ".py",
   "mimetype": "text/x-python",
   "name": "python",
   "nbconvert_exporter": "python",
   "pygments_lexer": "ipython3",
   "version": "3.7.3"
  }
 },
 "nbformat": 4,
 "nbformat_minor": 5
}
