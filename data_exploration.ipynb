{
 "cells": [
  {
   "cell_type": "code",
   "execution_count": 17,
   "id": "668b35de",
   "metadata": {
    "scrolled": true
   },
   "outputs": [
    {
     "name": "stdout",
     "output_type": "stream",
     "text": [
      "The autoreload extension is already loaded. To reload it, use:\n",
      "  %reload_ext autoreload\n",
      "The line_profiler extension is already loaded. To reload it, use:\n",
      "  %reload_ext line_profiler\n"
     ]
    }
   ],
   "source": [
    "%load_ext autoreload\n",
    "%autoreload 2\n",
    "%load_ext line_profiler\n",
    "import pandas as pd\n",
    "import random\n",
    "import numpy as np\n",
    "import timeit\n",
    "from gorlib import *\n"
   ]
  },
  {
   "cell_type": "code",
   "execution_count": 18,
   "id": "6a94cde0",
   "metadata": {},
   "outputs": [
    {
     "name": "stdout",
     "output_type": "stream",
     "text": [
      "dict_keys(['Forecasted Consumption', 'Meter List', 'Rates'])\n"
     ]
    }
   ],
   "source": [
    "#load data\n",
    "dfs = load_file(\"./data.xlsx\")\n",
    "print(dfs.keys())\n",
    "for key in dfs:\n",
    "    if \"Date\" in dfs[key].columns:\n",
    "        dfs[key]['Date'] = pd.to_datetime(dfs[key]['Date'])"
   ]
  },
  {
   "cell_type": "markdown",
   "id": "453fb11e",
   "metadata": {},
   "source": [
    "## Results "
   ]
  },
  {
   "cell_type": "code",
   "execution_count": 19,
   "id": "4c19c60e",
   "metadata": {},
   "outputs": [
    {
     "name": "stdout",
     "output_type": "stream",
     "text": [
      "     Meter ID  Total Estimated Consumption (kWh)  Total Cost (Pounds)\n",
      "0  1000000603                           24656.07                 8.26\n",
      "1    10588707                          122376.66                28.48\n",
      "2    10626610                          303294.62                88.16\n"
     ]
    }
   ],
   "source": [
    "res = calc_costs(dfs['Forecasted Consumption'], dfs['Rates'], dfs['Meter List'], \"2020-10-01\", \"2022-09-30\")\n",
    "print(res)"
   ]
  },
  {
   "cell_type": "code",
   "execution_count": 20,
   "id": "c983cd99",
   "metadata": {},
   "outputs": [],
   "source": [
    "randmeters = gen_rand_meters(dfs['Rates'], mcnt=100)\n",
    "randconsm  = gen_mock_consn(randmeters[\"Meter ID\"].tolist(),\"2020-10-01\", \"2022-09-30\")"
   ]
  },
  {
   "cell_type": "code",
   "execution_count": 21,
   "id": "3732bf90",
   "metadata": {},
   "outputs": [
    {
     "name": "stdout",
     "output_type": "stream",
     "text": [
      "   Meter ID  Total Estimated Consumption (kWh)  Total Cost (Pounds)\n",
      "0      1003                          110001.39                25.82\n",
      "1      1010                          106830.19                25.08\n",
      "2      1098                          109816.52                31.80\n",
      "3      1057                          109595.26                32.89\n",
      "4      1095                          108816.03                32.60\n",
      "5      1019                          110825.89                32.38\n",
      "6      1070                          109516.66                25.70\n",
      "7      1012                          112343.01                32.81\n",
      "8      1052                          110348.79                37.15\n",
      "9      1061                          113441.81                34.05\n"
     ]
    }
   ],
   "source": [
    "res = calc_costs(randconsm, dfs['Rates'],randmeters, \"2020-10-01\", \"2022-09-30\")\n",
    "print(res.head(10))"
   ]
  },
  {
   "cell_type": "markdown",
   "id": "b1627be5",
   "metadata": {},
   "source": [
    "# Profiling"
   ]
  },
  {
   "cell_type": "code",
   "execution_count": 33,
   "id": "69c548d1",
   "metadata": {},
   "outputs": [],
   "source": [
    "randmeters = gen_rand_meters(dfs['Rates'], mcnt=100)\n",
    "randconsm  = gen_mock_consn(randmeters[\"Meter ID\"].tolist(),\"2020-10-01\", \"2022-09-30\")\n",
    "permtr_cnt = randconsm.shape[0]/100.0"
   ]
  },
  {
   "cell_type": "code",
   "execution_count": 23,
   "id": "3c1dbc65",
   "metadata": {},
   "outputs": [
    {
     "name": "stdout",
     "output_type": "stream",
     "text": [
      "1 loop, best of 5: 721 ms per loop\n"
     ]
    }
   ],
   "source": [
    "%%timeit\n",
    "res = calc_costs(randconsm, dfs['Rates'],randmeters, \"2020-10-01\", \"2022-09-30\")"
   ]
  },
  {
   "cell_type": "code",
   "execution_count": 24,
   "id": "7846299a",
   "metadata": {},
   "outputs": [],
   "source": [
    "randmeters = gen_rand_meters(dfs['Rates'], mcnt=1000)\n",
    "randconsm  = gen_mock_consn(randmeters[\"Meter ID\"].tolist(),\"2020-10-01\", \"2022-09-30\")"
   ]
  },
  {
   "cell_type": "code",
   "execution_count": 25,
   "id": "c0c0458c",
   "metadata": {},
   "outputs": [
    {
     "name": "stdout",
     "output_type": "stream",
     "text": [
      "1 loop, best of 5: 11.3 s per loop\n"
     ]
    }
   ],
   "source": [
    "%%timeit\n",
    "res = calc_costs(randconsm, dfs['Rates'],randmeters, \"2020-10-01\", \"2022-09-30\")"
   ]
  },
  {
   "cell_type": "code",
   "execution_count": 26,
   "id": "63ff1013",
   "metadata": {},
   "outputs": [],
   "source": [
    "imports = '''\n",
    "from gorlib import calc_costs, gen_rand_meters, gen_mock_consn, load_file\n",
    "import pandas as pd\n",
    "dfs = load_file(\"./data.xlsx\")\n",
    "for key in dfs:\n",
    "    if \"Date\" in dfs[key].columns:\n",
    "        dfs[key]['Date'] = pd.to_datetime(dfs[key]['Date'])\n",
    "randmeters = gen_rand_meters(dfs['Rates'], mcnt={mcnt})\n",
    "randconsm  = gen_mock_consn(randmeters[\"Meter ID\"].tolist(),\"2020-10-01\", \"2022-09-30\")\n",
    "'''\n",
    "testcode= '''\n",
    "calc_costs(randconsm, dfs['Rates'],randmeters, \"2020-10-01\", \"2022-09-30\")\n",
    "'''\n",
    "\n",
    "cntlist = [10,50,100,500,1000,2000]\n",
    "pftime = [timeit.timeit(stmt=testcode, setup=imports.format(mcnt=cnt), number=10)/10.0 for cnt in cntlist]"
   ]
  },
  {
   "cell_type": "code",
   "execution_count": 46,
   "id": "f5b39a1d",
   "metadata": {},
   "outputs": [
    {
     "data": {
      "image/png": "[encoded data removed]",
      "text/plain": [
       "<Figure size 432x288 with 1 Axes>"
      ]
     },
     "metadata": {
      "needs_background": "light"
     },
     "output_type": "display_data"
    },
    {
     "data": {
      "image/png": "[encoded data removed]",
      "text/plain": [
       "<Figure size 432x288 with 1 Axes>"
      ]
     },
     "metadata": {
      "needs_background": "light"
     },
     "output_type": "display_data"
    },
    {
     "data": {
      "image/png": "[encoded data removed]",
      "text/plain": [
       "<Figure size 432x288 with 1 Axes>"
      ]
     },
     "metadata": {
      "needs_background": "light"
     },
     "output_type": "display_data"
    }
   ],
   "source": [
    "import matplotlib.pyplot as plt\n",
    "import numpy.polynomial.polynomial as poly\n",
    "plt.figure()\n",
    "plt.plot(cntlist,pftime, marker=\"o\")\n",
    "plt.xlabel(\"Meter count\")\n",
    "plt.ylabel(\"Execution time (s)\")\n",
    "plt.title(\"Meter cnt vs Execution Time\")\n",
    "plt.grid()\n",
    "\n",
    "plt.figure()\n",
    "plt.plot(np.array(cntlist)*permtr_cnt,pftime, marker=\"o\")\n",
    "plt.xlabel(\"Consumption dataframe row count\")\n",
    "plt.ylabel(\"Execution time (s)\")\n",
    "plt.title(\"Row cnt vs Execution Time\")\n",
    "plt.ticklabel_format(style='sci', axis='x', scilimits=(0,0))\n",
    "plt.grid()\n",
    "\n",
    "plt.figure()\n",
    "rcnt = np.array(cntlist)*permtr_cnt\n",
    "plt.plot(rcnt,pftime, marker=\"o\", label=\"actual\")\n",
    "p1coefs = poly.polyfit(rcnt, pftime, 1)\n",
    "ffit = poly.polyval(rcnt, p1coefs)\n",
    "plt.plot(rcnt, ffit,\"--\", label=\"degree=1\")\n",
    "p2coefs = poly.polyfit(rcnt, pftime, 2)\n",
    "ffit = poly.polyval(rcnt, p2coefs)\n",
    "plt.plot(rcnt, ffit,\"--\", label=\"degree=2\")\n",
    "plt.plot(rcnt, np.log(rcnt),\"--\", label=\"log(n)\")\n",
    "plt.legend()\n",
    "plt.xlabel(\"Consumption dataframe row count\")\n",
    "plt.ylabel(\"Execution time (s)\")\n",
    "plt.title(\"Row cnt vs Execution Time with polyfit\")\n",
    "plt.ticklabel_format(style='sci', axis='x', scilimits=(0,0))\n",
    "plt.grid()\n",
    "plt.show()\n",
    "plt.show()"
   ]
  },
  {
   "cell_type": "code",
   "execution_count": 28,
   "id": "b5ac569b",
   "metadata": {},
   "outputs": [
    {
     "data": {
      "text/plain": [
       "Timer unit: 1e-06 s\n",
       "\n",
       "Total time: 19.8885 s\n",
       "File: /home/radhika/gorlib.py\n",
       "Function: calc_meter_cost at line 19\n",
       "\n",
       "Line #      Hits         Time  Per Hit   % Time  Line Contents\n",
       "==============================================================\n",
       "    19                                           def calc_meter_cost(forecast, rates, mid, ezone, aq, sdate, edate):\n",
       "    20                                               \"\"\"\n",
       "    21                                               \"\"\"\n",
       "    22      1000    7473370.0   7473.4     37.6      fdsel = (forecast[\"Meter ID\"]== mid) & (forecast[\"Date\"] >= sdate) & (forecast[\"Date\"] < edate)\n",
       "    23      1000    1592338.0   1592.3      8.0      rsel = (rates['Exit Zone'] == ezone) & (rates['Annual Quantity (Min)'] <= aq) & (rates['Annual Quantity (Max)'] > aq)\n",
       "    24      1000     938905.0    938.9      4.7      dff = forecast.loc[fdsel]\n",
       "    25      1000    1003036.0   1003.0      5.0      dff = dff.set_index('Date')\n",
       "    26      1000     207977.0    208.0      1.0      dff = dff.sort_index()\n",
       "    27                                               #Add comments\n",
       "    28      1000    1777177.0   1777.2      8.9      dfr = rates.loc[rsel, ['Date','Rate (p/kWh)']]\n",
       "    29      1000     897348.0    897.3      4.5      dfr = dfr.set_index('Date')\n",
       "    30      1000     177029.0    177.0      0.9      dfr = dfr.sort_index()\n",
       "    31      1000    1517474.0   1517.5      7.6      dfr = dfr.reindex(labels=pd.date_range(dfr.index[0],dfr.index[-1],freq='D'), method='pad')\n",
       "    32                                               #Add comments\n",
       "    33      1000    1438899.0   1438.9      7.2      dfj = dff.join(dfr)\n",
       "    34      1000    2200378.0   2200.4     11.1      dfj[\"Cost\"] = dfj['Rate (p/kWh)'] * dfj['kWh']\n",
       "    35      1000     664559.0    664.6      3.3      return {\"Tcost\": (dfj[\"Cost\"].sum()/100.0).round(2), \"TkWh\": dfj[\"kWh\"].sum().round(2)}"
      ]
     },
     "metadata": {},
     "output_type": "display_data"
    }
   ],
   "source": [
    "%lprun -f calc_meter_cost calc_costs(randconsm, dfs['Rates'], randmeters, \"2020-10-01\", \"2022-09-30\")"
   ]
  },
  {
   "cell_type": "code",
   "execution_count": 29,
   "id": "758fe3ff-c25e-48b0-b2d4-6c5bc24b7fb7",
   "metadata": {},
   "outputs": [
    {
     "name": "stdout",
     "output_type": "stream",
     "text": [
      "1 loop, best of 5: 12.8 s per loop\n"
     ]
    }
   ],
   "source": [
    "%%timeit\n",
    "res = calc_costs_opt(randconsm, dfs['Rates'], randmeters, \"2020-10-01\", \"2022-09-30\")"
   ]
  },
  {
   "cell_type": "code",
   "execution_count": 30,
   "id": "712922cd-8cb5-4073-a409-941ba1fc49dc",
   "metadata": {},
   "outputs": [
    {
     "data": {
      "text/plain": [
       "Timer unit: 1e-06 s\n",
       "\n",
       "Total time: 19.166 s\n",
       "File: /home/radhika/gorlib.py\n",
       "Function: calc_meter_cost_opt at line 38\n",
       "\n",
       "Line #      Hits         Time  Per Hit   % Time  Line Contents\n",
       "==============================================================\n",
       "    38                                           def calc_meter_cost_opt(forecast, rates, mid, ezone, aq, sdate, edate):\n",
       "    39                                               \"\"\"\n",
       "    40                                               \"\"\"\n",
       "    41      1000    7289769.0   7289.8     38.0      fdsel = (forecast[\"Meter ID\"]== mid) & (forecast[\"Date\"] >= sdate) & (forecast[\"Date\"] < edate)\n",
       "    42      1000    1543282.0   1543.3      8.1      rsel = (rates['Exit Zone'] == ezone) & (rates['Annual Quantity (Min)'] <= aq) & (rates['Annual Quantity (Max)'] > aq)\n",
       "    43      1000     898802.0    898.8      4.7      dff = forecast.loc[fdsel]\n",
       "    44      1000     968443.0    968.4      5.1      dff = dff.set_index('Date')\n",
       "    45      1000     200949.0    200.9      1.0      dff = dff.sort_index()\n",
       "    46                                               #Add comments\n",
       "    47      1000    1709240.0   1709.2      8.9      dfr = rates.loc[rsel, ['Date','Rate (p/kWh)']]\n",
       "    48      1000     869215.0    869.2      4.5      dfr = dfr.set_index('Date')\n",
       "    49      1000     171299.0    171.3      0.9      dfr = dfr.sort_index()\n",
       "    50      1000    1479580.0   1479.6      7.7      dfr = dfr.reindex(labels=pd.date_range(dfr.index[0],dfr.index[-1],freq='D'), method='pad')\n",
       "    51                                               #Add comments\n",
       "    52                                               #dfj = dff.join(dfr)\n",
       "    53      1000    3371646.0   3371.6     17.6      dfr[\"Cost\"] = dfr['Rate (p/kWh)'] * dff['kWh']\n",
       "    54      1000     663762.0    663.8      3.5      return {\"Tcost\": (dfr[\"Cost\"].sum()/100.0).round(2), \"TkWh\": dff[\"kWh\"].sum().round(2)}"
      ]
     },
     "metadata": {},
     "output_type": "display_data"
    }
   ],
   "source": [
    "%lprun -f calc_meter_cost_opt calc_costs_opt(randconsm, dfs['Rates'], randmeters, \"2020-10-01\", \"2022-09-30\")"
   ]
  }
 ],
 "metadata": {
  "kernelspec": {
   "display_name": "Python 3",
   "language": "python",
   "name": "python3"
  },
  "language_info": {
   "codemirror_mode": {
    "name": "ipython",
    "version": 3
   },
   "file_extension": ".py",
   "mimetype": "text/x-python",
   "name": "python",
   "nbconvert_exporter": "python",
   "pygments_lexer": "ipython3",
   "version": "3.7.3"
  }
 },
 "nbformat": 4,
 "nbformat_minor": 5
}
